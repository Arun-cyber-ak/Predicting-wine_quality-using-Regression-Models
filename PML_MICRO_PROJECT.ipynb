{
 "cells": [
  {
   "cell_type": "code",
   "execution_count": 1,
   "id": "849d5c86",
   "metadata": {},
   "outputs": [],
   "source": [
    "import pandas as pd\n",
    "import warnings\n",
    "warnings.filterwarnings('ignore')"
   ]
  },
  {
   "cell_type": "code",
   "execution_count": 2,
   "id": "2af26e46",
   "metadata": {},
   "outputs": [],
   "source": [
    "df = pd.read_csv(\"winequalityN.csv\")"
   ]
  },
  {
   "cell_type": "code",
   "execution_count": 3,
   "id": "ff1285dd",
   "metadata": {},
   "outputs": [
    {
     "data": {
      "text/html": [
       "<div>\n",
       "<style scoped>\n",
       "    .dataframe tbody tr th:only-of-type {\n",
       "        vertical-align: middle;\n",
       "    }\n",
       "\n",
       "    .dataframe tbody tr th {\n",
       "        vertical-align: top;\n",
       "    }\n",
       "\n",
       "    .dataframe thead th {\n",
       "        text-align: right;\n",
       "    }\n",
       "</style>\n",
       "<table border=\"1\" class=\"dataframe\">\n",
       "  <thead>\n",
       "    <tr style=\"text-align: right;\">\n",
       "      <th></th>\n",
       "      <th>type</th>\n",
       "      <th>fixed acidity</th>\n",
       "      <th>volatile acidity</th>\n",
       "      <th>citric acid</th>\n",
       "      <th>residual sugar</th>\n",
       "      <th>chlorides</th>\n",
       "      <th>free sulfur dioxide</th>\n",
       "      <th>total sulfur dioxide</th>\n",
       "      <th>density</th>\n",
       "      <th>pH</th>\n",
       "      <th>sulphates</th>\n",
       "      <th>alcohol</th>\n",
       "      <th>quality</th>\n",
       "    </tr>\n",
       "  </thead>\n",
       "  <tbody>\n",
       "    <tr>\n",
       "      <th>0</th>\n",
       "      <td>white</td>\n",
       "      <td>7.0</td>\n",
       "      <td>0.27</td>\n",
       "      <td>0.36</td>\n",
       "      <td>20.7</td>\n",
       "      <td>0.045</td>\n",
       "      <td>45.0</td>\n",
       "      <td>170.0</td>\n",
       "      <td>1.0010</td>\n",
       "      <td>3.00</td>\n",
       "      <td>0.45</td>\n",
       "      <td>8.8</td>\n",
       "      <td>6</td>\n",
       "    </tr>\n",
       "    <tr>\n",
       "      <th>1</th>\n",
       "      <td>white</td>\n",
       "      <td>6.3</td>\n",
       "      <td>0.30</td>\n",
       "      <td>0.34</td>\n",
       "      <td>1.6</td>\n",
       "      <td>0.049</td>\n",
       "      <td>14.0</td>\n",
       "      <td>132.0</td>\n",
       "      <td>0.9940</td>\n",
       "      <td>3.30</td>\n",
       "      <td>0.49</td>\n",
       "      <td>9.5</td>\n",
       "      <td>6</td>\n",
       "    </tr>\n",
       "    <tr>\n",
       "      <th>2</th>\n",
       "      <td>white</td>\n",
       "      <td>8.1</td>\n",
       "      <td>0.28</td>\n",
       "      <td>0.40</td>\n",
       "      <td>6.9</td>\n",
       "      <td>0.050</td>\n",
       "      <td>30.0</td>\n",
       "      <td>97.0</td>\n",
       "      <td>0.9951</td>\n",
       "      <td>3.26</td>\n",
       "      <td>0.44</td>\n",
       "      <td>10.1</td>\n",
       "      <td>6</td>\n",
       "    </tr>\n",
       "    <tr>\n",
       "      <th>3</th>\n",
       "      <td>white</td>\n",
       "      <td>7.2</td>\n",
       "      <td>0.23</td>\n",
       "      <td>0.32</td>\n",
       "      <td>8.5</td>\n",
       "      <td>0.058</td>\n",
       "      <td>47.0</td>\n",
       "      <td>186.0</td>\n",
       "      <td>0.9956</td>\n",
       "      <td>3.19</td>\n",
       "      <td>0.40</td>\n",
       "      <td>9.9</td>\n",
       "      <td>6</td>\n",
       "    </tr>\n",
       "    <tr>\n",
       "      <th>4</th>\n",
       "      <td>white</td>\n",
       "      <td>7.2</td>\n",
       "      <td>0.23</td>\n",
       "      <td>0.32</td>\n",
       "      <td>8.5</td>\n",
       "      <td>0.058</td>\n",
       "      <td>47.0</td>\n",
       "      <td>186.0</td>\n",
       "      <td>0.9956</td>\n",
       "      <td>3.19</td>\n",
       "      <td>0.40</td>\n",
       "      <td>9.9</td>\n",
       "      <td>6</td>\n",
       "    </tr>\n",
       "    <tr>\n",
       "      <th>5</th>\n",
       "      <td>white</td>\n",
       "      <td>8.1</td>\n",
       "      <td>0.28</td>\n",
       "      <td>0.40</td>\n",
       "      <td>6.9</td>\n",
       "      <td>0.050</td>\n",
       "      <td>30.0</td>\n",
       "      <td>97.0</td>\n",
       "      <td>0.9951</td>\n",
       "      <td>3.26</td>\n",
       "      <td>0.44</td>\n",
       "      <td>10.1</td>\n",
       "      <td>6</td>\n",
       "    </tr>\n",
       "    <tr>\n",
       "      <th>6</th>\n",
       "      <td>white</td>\n",
       "      <td>6.2</td>\n",
       "      <td>0.32</td>\n",
       "      <td>0.16</td>\n",
       "      <td>7.0</td>\n",
       "      <td>0.045</td>\n",
       "      <td>30.0</td>\n",
       "      <td>136.0</td>\n",
       "      <td>0.9949</td>\n",
       "      <td>3.18</td>\n",
       "      <td>0.47</td>\n",
       "      <td>9.6</td>\n",
       "      <td>6</td>\n",
       "    </tr>\n",
       "    <tr>\n",
       "      <th>7</th>\n",
       "      <td>white</td>\n",
       "      <td>7.0</td>\n",
       "      <td>0.27</td>\n",
       "      <td>0.36</td>\n",
       "      <td>20.7</td>\n",
       "      <td>0.045</td>\n",
       "      <td>45.0</td>\n",
       "      <td>170.0</td>\n",
       "      <td>1.0010</td>\n",
       "      <td>3.00</td>\n",
       "      <td>0.45</td>\n",
       "      <td>8.8</td>\n",
       "      <td>6</td>\n",
       "    </tr>\n",
       "    <tr>\n",
       "      <th>8</th>\n",
       "      <td>white</td>\n",
       "      <td>6.3</td>\n",
       "      <td>0.30</td>\n",
       "      <td>0.34</td>\n",
       "      <td>1.6</td>\n",
       "      <td>0.049</td>\n",
       "      <td>14.0</td>\n",
       "      <td>132.0</td>\n",
       "      <td>0.9940</td>\n",
       "      <td>3.30</td>\n",
       "      <td>0.49</td>\n",
       "      <td>9.5</td>\n",
       "      <td>6</td>\n",
       "    </tr>\n",
       "    <tr>\n",
       "      <th>9</th>\n",
       "      <td>white</td>\n",
       "      <td>8.1</td>\n",
       "      <td>0.22</td>\n",
       "      <td>0.43</td>\n",
       "      <td>1.5</td>\n",
       "      <td>0.044</td>\n",
       "      <td>28.0</td>\n",
       "      <td>129.0</td>\n",
       "      <td>0.9938</td>\n",
       "      <td>3.22</td>\n",
       "      <td>0.45</td>\n",
       "      <td>11.0</td>\n",
       "      <td>6</td>\n",
       "    </tr>\n",
       "  </tbody>\n",
       "</table>\n",
       "</div>"
      ],
      "text/plain": [
       "    type  fixed acidity  volatile acidity  citric acid  residual sugar  \\\n",
       "0  white            7.0              0.27         0.36            20.7   \n",
       "1  white            6.3              0.30         0.34             1.6   \n",
       "2  white            8.1              0.28         0.40             6.9   \n",
       "3  white            7.2              0.23         0.32             8.5   \n",
       "4  white            7.2              0.23         0.32             8.5   \n",
       "5  white            8.1              0.28         0.40             6.9   \n",
       "6  white            6.2              0.32         0.16             7.0   \n",
       "7  white            7.0              0.27         0.36            20.7   \n",
       "8  white            6.3              0.30         0.34             1.6   \n",
       "9  white            8.1              0.22         0.43             1.5   \n",
       "\n",
       "   chlorides  free sulfur dioxide  total sulfur dioxide  density    pH  \\\n",
       "0      0.045                 45.0                 170.0   1.0010  3.00   \n",
       "1      0.049                 14.0                 132.0   0.9940  3.30   \n",
       "2      0.050                 30.0                  97.0   0.9951  3.26   \n",
       "3      0.058                 47.0                 186.0   0.9956  3.19   \n",
       "4      0.058                 47.0                 186.0   0.9956  3.19   \n",
       "5      0.050                 30.0                  97.0   0.9951  3.26   \n",
       "6      0.045                 30.0                 136.0   0.9949  3.18   \n",
       "7      0.045                 45.0                 170.0   1.0010  3.00   \n",
       "8      0.049                 14.0                 132.0   0.9940  3.30   \n",
       "9      0.044                 28.0                 129.0   0.9938  3.22   \n",
       "\n",
       "   sulphates  alcohol  quality  \n",
       "0       0.45      8.8        6  \n",
       "1       0.49      9.5        6  \n",
       "2       0.44     10.1        6  \n",
       "3       0.40      9.9        6  \n",
       "4       0.40      9.9        6  \n",
       "5       0.44     10.1        6  \n",
       "6       0.47      9.6        6  \n",
       "7       0.45      8.8        6  \n",
       "8       0.49      9.5        6  \n",
       "9       0.45     11.0        6  "
      ]
     },
     "execution_count": 3,
     "metadata": {},
     "output_type": "execute_result"
    }
   ],
   "source": [
    "df.head(10)"
   ]
  },
  {
   "cell_type": "code",
   "execution_count": 4,
   "id": "09d148f0",
   "metadata": {},
   "outputs": [
    {
     "data": {
      "text/plain": [
       "(6497, 13)"
      ]
     },
     "execution_count": 4,
     "metadata": {},
     "output_type": "execute_result"
    }
   ],
   "source": [
    "df.shape"
   ]
  },
  {
   "cell_type": "code",
   "execution_count": 5,
   "id": "4c9dc3b5",
   "metadata": {},
   "outputs": [
    {
     "name": "stdout",
     "output_type": "stream",
     "text": [
      "<class 'pandas.core.frame.DataFrame'>\n",
      "RangeIndex: 6497 entries, 0 to 6496\n",
      "Data columns (total 13 columns):\n",
      " #   Column                Non-Null Count  Dtype  \n",
      "---  ------                --------------  -----  \n",
      " 0   type                  6497 non-null   object \n",
      " 1   fixed acidity         6487 non-null   float64\n",
      " 2   volatile acidity      6489 non-null   float64\n",
      " 3   citric acid           6494 non-null   float64\n",
      " 4   residual sugar        6495 non-null   float64\n",
      " 5   chlorides             6495 non-null   float64\n",
      " 6   free sulfur dioxide   6497 non-null   float64\n",
      " 7   total sulfur dioxide  6497 non-null   float64\n",
      " 8   density               6497 non-null   float64\n",
      " 9   pH                    6488 non-null   float64\n",
      " 10  sulphates             6493 non-null   float64\n",
      " 11  alcohol               6497 non-null   float64\n",
      " 12  quality               6497 non-null   int64  \n",
      "dtypes: float64(11), int64(1), object(1)\n",
      "memory usage: 660.0+ KB\n"
     ]
    }
   ],
   "source": [
    "df.info()"
   ]
  },
  {
   "cell_type": "code",
   "execution_count": 6,
   "id": "6b063ed0",
   "metadata": {
    "scrolled": true
   },
   "outputs": [
    {
     "data": {
      "text/plain": [
       "type                     0\n",
       "fixed acidity           10\n",
       "volatile acidity         8\n",
       "citric acid              3\n",
       "residual sugar           2\n",
       "chlorides                2\n",
       "free sulfur dioxide      0\n",
       "total sulfur dioxide     0\n",
       "density                  0\n",
       "pH                       9\n",
       "sulphates                4\n",
       "alcohol                  0\n",
       "quality                  0\n",
       "dtype: int64"
      ]
     },
     "execution_count": 6,
     "metadata": {},
     "output_type": "execute_result"
    }
   ],
   "source": [
    "df.isnull().sum()"
   ]
  },
  {
   "cell_type": "code",
   "execution_count": 7,
   "id": "b418fc8a",
   "metadata": {},
   "outputs": [],
   "source": [
    "df['fixed acidity'].fillna(df['fixed acidity'].mode()[0], inplace=True)\n",
    "df['volatile acidity'].fillna(df['volatile acidity'].mode()[0], inplace=True)\n",
    "df['citric acid'].fillna(df['citric acid'].mode()[0], inplace=True)\n",
    "df['residual sugar'].fillna(df['residual sugar'].mode()[0], inplace=True)\n",
    "df['chlorides'].fillna(df['chlorides'].mode()[0], inplace=True)\n",
    "df['pH'].fillna(df['pH'].mode()[0], inplace=True)\n",
    "df['sulphates'].fillna(df['sulphates'].mode()[0], inplace=True)"
   ]
  },
  {
   "cell_type": "code",
   "execution_count": 8,
   "id": "7dcc5cc7",
   "metadata": {
    "scrolled": true
   },
   "outputs": [
    {
     "data": {
      "text/plain": [
       "type                    0\n",
       "fixed acidity           0\n",
       "volatile acidity        0\n",
       "citric acid             0\n",
       "residual sugar          0\n",
       "chlorides               0\n",
       "free sulfur dioxide     0\n",
       "total sulfur dioxide    0\n",
       "density                 0\n",
       "pH                      0\n",
       "sulphates               0\n",
       "alcohol                 0\n",
       "quality                 0\n",
       "dtype: int64"
      ]
     },
     "execution_count": 8,
     "metadata": {},
     "output_type": "execute_result"
    }
   ],
   "source": [
    "df.isnull().sum()"
   ]
  },
  {
   "cell_type": "code",
   "execution_count": 9,
   "id": "c2fede44",
   "metadata": {},
   "outputs": [],
   "source": [
    "X = df.drop(['type','quality'],axis=1)\n",
    "y= df['quality']"
   ]
  },
  {
   "cell_type": "code",
   "execution_count": 10,
   "id": "6093f482",
   "metadata": {},
   "outputs": [],
   "source": [
    "#X=df.drop(['type','quality'],axis=1)\n",
    "#y=df['quality']"
   ]
  },
  {
   "cell_type": "markdown",
   "id": "b9a3ea4f",
   "metadata": {},
   "source": [
    "**Splitting the Dataset**"
   ]
  },
  {
   "cell_type": "code",
   "execution_count": 11,
   "id": "2ad123ce",
   "metadata": {},
   "outputs": [],
   "source": [
    "from sklearn.model_selection import train_test_split\n",
    "X_train,X_test,y_train,y_test = train_test_split(X,y,test_size=0.30,random_state=42)"
   ]
  },
  {
   "cell_type": "code",
   "execution_count": 12,
   "id": "0a32ed11",
   "metadata": {},
   "outputs": [],
   "source": [
    "from sklearn.linear_model import LinearRegression\n",
    "l = LinearRegression()\n",
    "l.fit(X_train,y_train)\n",
    "y_pred = l.predict(X_test)"
   ]
  },
  {
   "cell_type": "code",
   "execution_count": 13,
   "id": "4a1e70c2",
   "metadata": {},
   "outputs": [
    {
     "name": "stdout",
     "output_type": "stream",
     "text": [
      "Mean Squared error of Linear model is  0.5072523112618679\n"
     ]
    }
   ],
   "source": [
    "from sklearn.metrics import mean_squared_error,r2_score\n",
    "m_l = mean_squared_error(y_test,y_pred)\n",
    "print(\"Mean Squared error of Linear model is \",m_l)"
   ]
  },
  {
   "cell_type": "code",
   "execution_count": 14,
   "id": "d298b27e",
   "metadata": {},
   "outputs": [
    {
     "data": {
      "text/plain": [
       "0.30528998963306986"
      ]
     },
     "execution_count": 14,
     "metadata": {},
     "output_type": "execute_result"
    }
   ],
   "source": [
    "r2_l = r2_score(y_test,y_pred)\n",
    "r2_l"
   ]
  },
  {
   "cell_type": "markdown",
   "id": "141af495",
   "metadata": {},
   "source": [
    "**Standard scaling**"
   ]
  },
  {
   "cell_type": "code",
   "execution_count": 15,
   "id": "0c57f3d3",
   "metadata": {},
   "outputs": [],
   "source": [
    "from sklearn.preprocessing import StandardScaler,MinMaxScaler\n",
    "ss = StandardScaler()"
   ]
  },
  {
   "cell_type": "code",
   "execution_count": 16,
   "id": "7bbf896b",
   "metadata": {},
   "outputs": [],
   "source": [
    "X_train_ss = ss.fit_transform(X_train)"
   ]
  },
  {
   "cell_type": "code",
   "execution_count": 17,
   "id": "0eee4046",
   "metadata": {},
   "outputs": [],
   "source": [
    "X_test_ss = ss.transform(X_test)"
   ]
  },
  {
   "cell_type": "markdown",
   "id": "93f299f5",
   "metadata": {},
   "source": [
    "## **Creating the Linear Regression Model**"
   ]
  },
  {
   "cell_type": "code",
   "execution_count": 18,
   "id": "19bcee98",
   "metadata": {},
   "outputs": [],
   "source": [
    "from sklearn.linear_model import LinearRegression\n",
    "ln = LinearRegression()\n",
    "ln.fit(X_train_ss,y_train)\n",
    "y_pred_ln_ss = ln.predict(X_test_ss)"
   ]
  },
  {
   "cell_type": "code",
   "execution_count": 19,
   "id": "3e340013",
   "metadata": {
    "scrolled": true
   },
   "outputs": [
    {
     "name": "stdout",
     "output_type": "stream",
     "text": [
      "Mean Squared Error of Linear Model using Standard Scaling 0.5072523112618676\n"
     ]
    }
   ],
   "source": [
    "m_ln_ss = mean_squared_error(y_test,y_pred_ln_ss)\n",
    "print(\"Mean Squared Error of Linear Model using Standard Scaling\",m_ln_ss)"
   ]
  },
  {
   "cell_type": "code",
   "execution_count": 20,
   "id": "14b103eb",
   "metadata": {},
   "outputs": [
    {
     "data": {
      "text/plain": [
       "0.3052899896330702"
      ]
     },
     "execution_count": 20,
     "metadata": {},
     "output_type": "execute_result"
    }
   ],
   "source": [
    "r2_ln_ss = r2_score(y_test,y_pred_ln_ss)\n",
    "r2_ln_ss"
   ]
  },
  {
   "cell_type": "markdown",
   "id": "0503e087",
   "metadata": {},
   "source": [
    "## **Creating the SVR model**"
   ]
  },
  {
   "cell_type": "code",
   "execution_count": 21,
   "id": "d81f47cd",
   "metadata": {},
   "outputs": [],
   "source": [
    "from sklearn.svm import SVR\n",
    "svr = SVR()\n",
    "svr.fit(X_train_ss,y_train)\n",
    "y_pred_svr_ss = svr.predict(X_test_ss)"
   ]
  },
  {
   "cell_type": "code",
   "execution_count": 22,
   "id": "e4d10af7",
   "metadata": {},
   "outputs": [
    {
     "name": "stdout",
     "output_type": "stream",
     "text": [
      "Mean Squared Error of Support Vector Regressor is  0.44383219493862663\n"
     ]
    }
   ],
   "source": [
    "from sklearn.metrics import mean_squared_error,r2_score\n",
    "m_svr_ss = mean_squared_error(y_test,y_pred_svr_ss)\n",
    "r2_svr_ss = r2_score(y_test,y_pred_svr_ss)\n",
    "print(\"Mean Squared Error of Support Vector Regressor is \",m_svr_ss)"
   ]
  },
  {
   "cell_type": "code",
   "execution_count": 23,
   "id": "32cedcfd",
   "metadata": {},
   "outputs": [
    {
     "data": {
      "text/plain": [
       "0.3921473359481381"
      ]
     },
     "execution_count": 23,
     "metadata": {},
     "output_type": "execute_result"
    }
   ],
   "source": [
    "r2_svr_ss"
   ]
  },
  {
   "cell_type": "markdown",
   "id": "4c9115ee",
   "metadata": {},
   "source": [
    "### Creating the SGD Regressor Model"
   ]
  },
  {
   "cell_type": "code",
   "execution_count": 24,
   "id": "74a5afa3",
   "metadata": {},
   "outputs": [],
   "source": [
    "from sklearn.linear_model import SGDRegressor\n",
    "sgd = SGDRegressor()\n",
    "sgd.fit(X_train_ss,y_train)\n",
    "y_pred_sgd_ss = sgd.predict(X_test_ss)                   "
   ]
  },
  {
   "cell_type": "code",
   "execution_count": 25,
   "id": "e8cfcc53",
   "metadata": {},
   "outputs": [
    {
     "name": "stdout",
     "output_type": "stream",
     "text": [
      "Mean Squared Error of SGD Regressor is  0.5073364521238721\n"
     ]
    }
   ],
   "source": [
    "m_sgd_ss = mean_squared_error(y_test,y_pred_sgd_ss)\n",
    "print(\"Mean Squared Error of SGD Regressor is \",m_sgd_ss)"
   ]
  },
  {
   "cell_type": "code",
   "execution_count": 26,
   "id": "c3d58397",
   "metadata": {},
   "outputs": [
    {
     "data": {
      "text/plain": [
       "0.30517475408299466"
      ]
     },
     "execution_count": 26,
     "metadata": {},
     "output_type": "execute_result"
    }
   ],
   "source": [
    "r2_sgd_ss = r2_score(y_test,y_pred_sgd_ss)\n",
    "r2_sgd_ss"
   ]
  },
  {
   "cell_type": "markdown",
   "id": "b257f40d",
   "metadata": {},
   "source": [
    "### **Creating the Ridge regression Model**"
   ]
  },
  {
   "cell_type": "code",
   "execution_count": 27,
   "id": "672f3531",
   "metadata": {},
   "outputs": [],
   "source": [
    "from sklearn.linear_model import Ridge\n",
    "rid = Ridge()\n",
    "rid.fit(X_train_ss,y_train)\n",
    "y_pred_rid_ss = rid.predict(X_test_ss)"
   ]
  },
  {
   "cell_type": "code",
   "execution_count": 28,
   "id": "25801256",
   "metadata": {},
   "outputs": [
    {
     "name": "stdout",
     "output_type": "stream",
     "text": [
      "Mean Squared Error of Ridge regression is  0.5072462720469213\n"
     ]
    }
   ],
   "source": [
    "m_rid_ss = mean_squared_error(y_test,y_pred_rid_ss)\n",
    "print(\"Mean Squared Error of Ridge regression is \",m_rid_ss)"
   ]
  },
  {
   "cell_type": "code",
   "execution_count": 29,
   "id": "410f71c5",
   "metadata": {},
   "outputs": [
    {
     "data": {
      "text/plain": [
       "0.3052982606709439"
      ]
     },
     "execution_count": 29,
     "metadata": {},
     "output_type": "execute_result"
    }
   ],
   "source": [
    "r2_rid_ss = r2_score(y_test,y_pred_rid_ss)\n",
    "r2_rid_ss"
   ]
  },
  {
   "cell_type": "markdown",
   "id": "9ca24965",
   "metadata": {},
   "source": [
    "### **Creating the Lasso Regression Model**"
   ]
  },
  {
   "cell_type": "code",
   "execution_count": 30,
   "id": "702afc6b",
   "metadata": {},
   "outputs": [],
   "source": [
    "from sklearn.linear_model import Lasso\n",
    "las = Lasso()\n",
    "las.fit(X_train_ss,y_train)\n",
    "y_pred_las_ss = las.predict(X_test_ss)"
   ]
  },
  {
   "cell_type": "code",
   "execution_count": 31,
   "id": "5988b41f",
   "metadata": {},
   "outputs": [
    {
     "name": "stdout",
     "output_type": "stream",
     "text": [
      "Mean Squared Error of Lasso Regression is  0.7301694757431596\n"
     ]
    }
   ],
   "source": [
    "m_las_ss = mean_squared_error(y_test,y_pred_las_ss)\n",
    "print(\"Mean Squared Error of Lasso Regression is \",m_las_ss)"
   ]
  },
  {
   "cell_type": "code",
   "execution_count": 32,
   "id": "0c26165e",
   "metadata": {},
   "outputs": [
    {
     "data": {
      "text/plain": [
       "-7.358864998030512e-06"
      ]
     },
     "execution_count": 32,
     "metadata": {},
     "output_type": "execute_result"
    }
   ],
   "source": [
    "r2_las_ss = r2_score(y_test,y_pred_las_ss)\n",
    "r2_las_ss"
   ]
  },
  {
   "cell_type": "markdown",
   "id": "9954f2fd",
   "metadata": {},
   "source": [
    "**Calculating the Root Mean Squared Error using Standard Scaling**"
   ]
  },
  {
   "cell_type": "code",
   "execution_count": 33,
   "id": "0c3fbbfa",
   "metadata": {},
   "outputs": [],
   "source": [
    "import numpy as np"
   ]
  },
  {
   "cell_type": "code",
   "execution_count": 34,
   "id": "5d081330",
   "metadata": {},
   "outputs": [
    {
     "name": "stdout",
     "output_type": "stream",
     "text": [
      "RMSE of Linear Regression Model:  0.7122164778084453\n",
      "RMSE of Support Vector Regressor model:  0.6662073212886711\n",
      "RMSE of SGD regressor Model:  0.7122755450834123\n",
      "RMSE of Ridge Regression Model:  0.7122122380631501\n",
      "RMSE of Lasso Regression Model:  0.8544995469531623\n"
     ]
    }
   ],
   "source": [
    "print(\"RMSE of Linear Regression Model: \",np.sqrt(m_ln_ss))\n",
    "\n",
    "print(\"RMSE of Support Vector Regressor model: \",np.sqrt(m_svr_ss))\n",
    "\n",
    "print(\"RMSE of SGD regressor Model: \",np.sqrt(m_sgd_ss))\n",
    "\n",
    "print(\"RMSE of Ridge Regression Model: \",np.sqrt(m_rid_ss))\n",
    "\n",
    "print(\"RMSE of Lasso Regression Model: \",np.sqrt(m_las_ss))"
   ]
  },
  {
   "cell_type": "markdown",
   "id": "1ac2ae07",
   "metadata": {},
   "source": [
    "**Finding out the best of Root Mean Squared Error**"
   ]
  },
  {
   "cell_type": "markdown",
   "id": "75dc0e2f",
   "metadata": {},
   "source": [
    "_The Best value of Root Mean Squared error is 0.6662073212886711 and the model is Support Vector Regressor Model_"
   ]
  },
  {
   "cell_type": "code",
   "execution_count": null,
   "id": "3036fe10",
   "metadata": {},
   "outputs": [],
   "source": []
  }
 ],
 "metadata": {
  "kernelspec": {
   "display_name": "Python 3",
   "language": "python",
   "name": "python3"
  },
  "language_info": {
   "codemirror_mode": {
    "name": "ipython",
    "version": 3
   },
   "file_extension": ".py",
   "mimetype": "text/x-python",
   "name": "python",
   "nbconvert_exporter": "python",
   "pygments_lexer": "ipython3",
   "version": "3.8.8"
  }
 },
 "nbformat": 4,
 "nbformat_minor": 5
}
